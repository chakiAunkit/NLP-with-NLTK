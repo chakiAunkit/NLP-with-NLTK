{
 "cells": [
  {
   "cell_type": "markdown",
   "metadata": {},
   "source": [
    "The problem with the previous model was that it was trained on large text fields. So when it comes to predicting small texts such as comments, SMS and tweets. It literally predict everything as negative. As the text fields were so small. I am going to retrain this model again on smaller dataset. \n",
    "\n",
    "The datasets are taken from sentdex's official website: pythonprogramming.net"
   ]
  },
  {
   "cell_type": "markdown",
   "metadata": {},
   "source": [
    "# Sentiment analysis on shorter text data"
   ]
  },
  {
   "cell_type": "markdown",
   "metadata": {},
   "source": [
    "### Text Classification "
   ]
  },
  {
   "cell_type": "code",
   "execution_count": 124,
   "metadata": {},
   "outputs": [],
   "source": [
    "import nltk\n",
    "import random\n",
    "#from nltk.corpus import movie_reviews\n",
    "import warnings\n",
    "warnings.filterwarnings('ignore')\n",
    "from nltk.tokenize import word_tokenize\n",
    "import pickle"
   ]
  },
  {
   "cell_type": "code",
   "execution_count": 125,
   "metadata": {},
   "outputs": [],
   "source": [
    "#nltk.download()"
   ]
  },
  {
   "cell_type": "code",
   "execution_count": 126,
   "metadata": {},
   "outputs": [],
   "source": [
    "short_pos = open(\"positive.txt\", \"r\").read()\n",
    "short_neg = open(\"negative.txt\", \"r\").read()"
   ]
  },
  {
   "cell_type": "code",
   "execution_count": 127,
   "metadata": {},
   "outputs": [],
   "source": [
    "documents = []\n",
    "all_words = []"
   ]
  },
  {
   "cell_type": "code",
   "execution_count": 128,
   "metadata": {},
   "outputs": [],
   "source": [
    "allowed_word_types = [\"J\"]"
   ]
  },
  {
   "cell_type": "code",
   "execution_count": 129,
   "metadata": {},
   "outputs": [],
   "source": [
    "for r in short_pos.split('\\n'):\n",
    "    documents.append((r, \"pos\"))\n",
    "    words = word_tokenize(r)\n",
    "    pos = nltk.pos_tag(words)\n",
    "    for w in pos:\n",
    "        if (w[1][0] in allowed_word_types):\n",
    "            all_words.append(w[0].lower())"
   ]
  },
  {
   "cell_type": "code",
   "execution_count": 130,
   "metadata": {},
   "outputs": [],
   "source": [
    "for r in short_neg.split('\\n'):\n",
    "    documents.append((r, \"neg\"))\n",
    "    words = word_tokenize(r)\n",
    "    pos = nltk.pos_tag(words)\n",
    "    for w in pos:\n",
    "        if (w[1][0] in allowed_word_types):\n",
    "            all_words.append(w[0].lower())"
   ]
  },
  {
   "cell_type": "code",
   "execution_count": 90,
   "metadata": {},
   "outputs": [],
   "source": [
    "saved_documents = open(\"pickle_algos/documents.pickle\", \"wb\")\n",
    "pickle.dump(documents, saved_documents)\n",
    "saved_documents.close()"
   ]
  },
  {
   "cell_type": "code",
   "execution_count": 29,
   "metadata": {},
   "outputs": [],
   "source": [
    "#nltk.data.path.append(\"C:/Anaconda/pkgs/nltk-3.4.5-py37_0/Lib/site-packages/nltk/\")"
   ]
  },
  {
   "cell_type": "code",
   "execution_count": 30,
   "metadata": {},
   "outputs": [],
   "source": [
    "#short_pos_word = nltk.word_tokenize(short_pos)\n",
    "#short_neg_word = nltk.word_tokenize(short_neg)"
   ]
  },
  {
   "cell_type": "code",
   "execution_count": 31,
   "metadata": {},
   "outputs": [],
   "source": [
    "#for w in short_pos_word:\n",
    "#    all_words.append(w.lower())"
   ]
  },
  {
   "cell_type": "code",
   "execution_count": 32,
   "metadata": {},
   "outputs": [],
   "source": [
    "#for w in short_neg_word:\n",
    "#    all_words.append(w.lower())"
   ]
  },
  {
   "cell_type": "code",
   "execution_count": 131,
   "metadata": {},
   "outputs": [],
   "source": [
    "all_words = nltk.FreqDist(all_words)"
   ]
  },
  {
   "cell_type": "code",
   "execution_count": 132,
   "metadata": {},
   "outputs": [
    {
     "name": "stdout",
     "output_type": "stream",
     "text": [
      "[('good', 369), ('more', 331), ('little', 265), ('funny', 245), ('much', 234), ('bad', 234), ('best', 208), ('new', 206), ('own', 185), ('many', 183), ('most', 167), ('other', 167), ('great', 160), ('big', 156), ('few', 139), ('first', 133), ('real', 132), ('i', 122), ('better', 116), ('full', 116)]\n"
     ]
    }
   ],
   "source": [
    "print(all_words.most_common(20))"
   ]
  },
  {
   "cell_type": "code",
   "execution_count": 93,
   "metadata": {},
   "outputs": [
    {
     "name": "stdout",
     "output_type": "stream",
     "text": [
      "32\n"
     ]
    }
   ],
   "source": [
    "#print(all_words[\"nice\"])"
   ]
  },
  {
   "cell_type": "markdown",
   "metadata": {},
   "source": [
    "### Words as features for learning"
   ]
  },
  {
   "cell_type": "code",
   "execution_count": 133,
   "metadata": {},
   "outputs": [],
   "source": [
    "word_features = list(all_words.keys())[:5000]"
   ]
  },
  {
   "cell_type": "code",
   "execution_count": 95,
   "metadata": {},
   "outputs": [],
   "source": [
    "saved_word_features = open(\"pickle_algos/word_features5k.pickle\", \"wb\")\n",
    "pickle.dump(word_features, saved_word_features)\n",
    "saved_word_features.close()"
   ]
  },
  {
   "cell_type": "code",
   "execution_count": 134,
   "metadata": {},
   "outputs": [],
   "source": [
    "def find_features(document):\n",
    "    words = word_tokenize(document)\n",
    "    features = {}\n",
    "    for w in word_features:\n",
    "        features[w] = (w in words)\n",
    "    return features"
   ]
  },
  {
   "cell_type": "code",
   "execution_count": 135,
   "metadata": {},
   "outputs": [],
   "source": [
    "#print((find_features(movie_reviews.words('neg/cv000_29416.txt'))))\n",
    "featuresets = [(find_features(rev), category) for (rev, category) in documents]"
   ]
  },
  {
   "cell_type": "code",
   "execution_count": 137,
   "metadata": {},
   "outputs": [],
   "source": [
    "featureset4k = open(\"pickle_algos/featuresets5k.pickle\", \"wb\")\n",
    "pickle.dump(featuresets, featureset4k)\n",
    "featureset4k.close()"
   ]
  },
  {
   "cell_type": "code",
   "execution_count": 77,
   "metadata": {},
   "outputs": [],
   "source": [
    "#print(len(featuresets))"
   ]
  },
  {
   "cell_type": "markdown",
   "metadata": {},
   "source": [
    "### Implementing Naive Bayes Algorithm "
   ]
  },
  {
   "cell_type": "code",
   "execution_count": 98,
   "metadata": {},
   "outputs": [],
   "source": [
    "random.shuffle(featuresets)"
   ]
  },
  {
   "cell_type": "code",
   "execution_count": 99,
   "metadata": {},
   "outputs": [],
   "source": [
    "#Positive data\n",
    "\n",
    "training_set = featuresets[:9500]\n",
    "testing_set = featuresets[9500:]\n",
    "\n",
    "#Negative data\n",
    "#training_set = featuresets[100:]\n",
    "#testing_set = featuresets[:100]"
   ]
  },
  {
   "cell_type": "code",
   "execution_count": 100,
   "metadata": {},
   "outputs": [],
   "source": [
    "classifier = nltk.NaiveBayesClassifier.train(training_set)"
   ]
  },
  {
   "cell_type": "code",
   "execution_count": 111,
   "metadata": {},
   "outputs": [],
   "source": [
    "save_classifier = open(\"pickle_algos/originalnaivebayes5k.pickle\", \"wb\")\n",
    "pickle.dump(classifier, save_classifier)\n",
    "save_classifier.close()"
   ]
  },
  {
   "cell_type": "code",
   "execution_count": 102,
   "metadata": {},
   "outputs": [
    {
     "name": "stdout",
     "output_type": "stream",
     "text": [
      "Most Informative Features\n",
      "                    flat = True              neg : pos    =     21.0 : 1.0\n",
      "                  boring = True              neg : pos    =     19.0 : 1.0\n",
      "                mediocre = True              neg : pos    =     16.3 : 1.0\n",
      "                 routine = True              neg : pos    =     15.6 : 1.0\n",
      "                    loud = True              neg : pos    =     15.0 : 1.0\n",
      "                 generic = True              neg : pos    =     15.0 : 1.0\n",
      "                  flawed = True              pos : neg    =     14.4 : 1.0\n",
      "              unexpected = True              pos : neg    =     14.4 : 1.0\n",
      "               inventive = True              pos : neg    =     13.7 : 1.0\n",
      "              refreshing = True              pos : neg    =     13.7 : 1.0\n",
      "                    warm = True              pos : neg    =     12.2 : 1.0\n",
      "                    dull = True              neg : pos    =     11.9 : 1.0\n",
      "                   stale = True              neg : pos    =     11.6 : 1.0\n",
      "               realistic = True              pos : neg    =     11.0 : 1.0\n",
      "                mindless = True              neg : pos    =     11.0 : 1.0\n",
      "                  stupid = True              neg : pos    =     10.6 : 1.0\n",
      "             mesmerizing = True              pos : neg    =     10.4 : 1.0\n",
      "                  devoid = True              neg : pos    =     10.3 : 1.0\n",
      "               offensive = True              neg : pos    =     10.3 : 1.0\n",
      "               wonderful = True              pos : neg    =      9.8 : 1.0\n"
     ]
    }
   ],
   "source": [
    "classifier.show_most_informative_features(20)"
   ]
  },
  {
   "cell_type": "markdown",
   "metadata": {},
   "source": [
    "### Saving the classifier with pickle"
   ]
  },
  {
   "cell_type": "code",
   "execution_count": 23,
   "metadata": {},
   "outputs": [],
   "source": [
    "#import pickle"
   ]
  },
  {
   "cell_type": "code",
   "execution_count": 24,
   "metadata": {},
   "outputs": [],
   "source": [
    "#saved_classifier = open(\"naivebayes.pickle\", \"wb\")\n",
    "#pickle.dump(classifier, saved_classifier)\n",
    "#saved_classifier.close()"
   ]
  },
  {
   "cell_type": "code",
   "execution_count": 25,
   "metadata": {},
   "outputs": [],
   "source": [
    "#classifier_f = open(\"naivebayes.pickle\", \"rb\")\n",
    "#classifier = pickle.load(classifier_f)\n",
    "#classifier_f.close()"
   ]
  },
  {
   "cell_type": "markdown",
   "metadata": {},
   "source": [
    "### Scikit-Learn incorporation "
   ]
  },
  {
   "cell_type": "code",
   "execution_count": 104,
   "metadata": {},
   "outputs": [],
   "source": [
    "from nltk.classify.scikitlearn import SklearnClassifier\n",
    "from sklearn.naive_bayes import MultinomialNB, GaussianNB, BernoulliNB\n",
    "from sklearn.tree import DecisionTreeClassifier\n",
    "from sklearn.svm import LinearSVC\n",
    "from sklearn.linear_model import LogisticRegression,SGDClassifier"
   ]
  },
  {
   "cell_type": "code",
   "execution_count": 105,
   "metadata": {},
   "outputs": [
    {
     "data": {
      "text/plain": [
       "<SklearnClassifier(MultinomialNB(alpha=1.0, class_prior=None, fit_prior=True))>"
      ]
     },
     "execution_count": 105,
     "metadata": {},
     "output_type": "execute_result"
    }
   ],
   "source": [
    "MNB_classifier = SklearnClassifier(MultinomialNB())\n",
    "MNB_classifier.train(training_set)"
   ]
  },
  {
   "cell_type": "code",
   "execution_count": 112,
   "metadata": {},
   "outputs": [],
   "source": [
    "save_classifier = open(\"pickle_algos/MNB_classifier5k.pickle\", \"wb\")\n",
    "pickle.dump(MNB_classifier, save_classifier)\n",
    "save_classifier.close()"
   ]
  },
  {
   "cell_type": "code",
   "execution_count": 113,
   "metadata": {},
   "outputs": [
    {
     "data": {
      "text/plain": [
       "<SklearnClassifier(BernoulliNB(alpha=1.0, binarize=0.0, class_prior=None, fit_prior=True))>"
      ]
     },
     "execution_count": 113,
     "metadata": {},
     "output_type": "execute_result"
    }
   ],
   "source": [
    "Bernoulli_classifier = SklearnClassifier(BernoulliNB())\n",
    "Bernoulli_classifier.train(training_set)"
   ]
  },
  {
   "cell_type": "code",
   "execution_count": 114,
   "metadata": {},
   "outputs": [],
   "source": [
    "save_classifier = open(\"pickle_algos/BernoulliNB_classifier5k.pickle\", \"wb\")\n",
    "pickle.dump(Bernoulli_classifier, save_classifier)\n",
    "save_classifier.close()"
   ]
  },
  {
   "cell_type": "code",
   "execution_count": 47,
   "metadata": {},
   "outputs": [
    {
     "data": {
      "text/plain": [
       "<SklearnClassifier(DecisionTreeClassifier(ccp_alpha=0.0, class_weight=None, criterion='gini',\n",
       "                       max_depth=None, max_features=None, max_leaf_nodes=None,\n",
       "                       min_impurity_decrease=0.0, min_impurity_split=None,\n",
       "                       min_samples_leaf=1, min_samples_split=2,\n",
       "                       min_weight_fraction_leaf=0.0, presort='deprecated',\n",
       "                       random_state=None, splitter='best'))>"
      ]
     },
     "execution_count": 47,
     "metadata": {},
     "output_type": "execute_result"
    }
   ],
   "source": [
    "#DecisionTree_Classifier = SklearnClassifier(DecisionTreeClassifier())\n",
    "#DecisionTree_Classifier.train(training_set)"
   ]
  },
  {
   "cell_type": "code",
   "execution_count": 108,
   "metadata": {},
   "outputs": [
    {
     "data": {
      "text/plain": [
       "<SklearnClassifier(LinearSVC(C=1.0, class_weight=None, dual=True, fit_intercept=True,\n",
       "          intercept_scaling=1, loss='squared_hinge', max_iter=1000,\n",
       "          multi_class='ovr', penalty='l2', random_state=None, tol=0.0001,\n",
       "          verbose=0))>"
      ]
     },
     "execution_count": 108,
     "metadata": {},
     "output_type": "execute_result"
    }
   ],
   "source": [
    "LinearSVC_classifier = SklearnClassifier(LinearSVC())\n",
    "LinearSVC_classifier.train(training_set)"
   ]
  },
  {
   "cell_type": "code",
   "execution_count": 117,
   "metadata": {},
   "outputs": [],
   "source": [
    "save_classifier = open(\"pickle_algos/LinearSVC_classifier5k.pickle\", \"wb\")\n",
    "pickle.dump(LinearSVC_classifier, save_classifier)\n",
    "save_classifier.close()"
   ]
  },
  {
   "cell_type": "code",
   "execution_count": 50,
   "metadata": {},
   "outputs": [],
   "source": [
    "#SGD_Classifier = SklearnClassifier(SGDClassifier())\n",
    "#SGD_Classifier.train(training_set)"
   ]
  },
  {
   "cell_type": "code",
   "execution_count": 109,
   "metadata": {},
   "outputs": [
    {
     "data": {
      "text/plain": [
       "<SklearnClassifier(LogisticRegression(C=1.0, class_weight=None, dual=False, fit_intercept=True,\n",
       "                   intercept_scaling=1, l1_ratio=None, max_iter=100,\n",
       "                   multi_class='auto', n_jobs=None, penalty='l2',\n",
       "                   random_state=None, solver='lbfgs', tol=0.0001, verbose=0,\n",
       "                   warm_start=False))>"
      ]
     },
     "execution_count": 109,
     "metadata": {},
     "output_type": "execute_result"
    }
   ],
   "source": [
    "LogisticRegression_classifier = SklearnClassifier(LogisticRegression())\n",
    "LogisticRegression_classifier.train(training_set)"
   ]
  },
  {
   "cell_type": "code",
   "execution_count": 118,
   "metadata": {},
   "outputs": [],
   "source": [
    "save_classifier = open(\"pickle_algos/LogisticRegression_classifier5k.pickle\", \"wb\")\n",
    "pickle.dump(LogisticRegression_classifier, save_classifier)\n",
    "save_classifier.close()"
   ]
  },
  {
   "cell_type": "code",
   "execution_count": 110,
   "metadata": {},
   "outputs": [
    {
     "name": "stdout",
     "output_type": "stream",
     "text": [
      "Original Naive Bayes Accuracy is  72.85223367697594\n",
      "MultinomialNB Accuracy is  72.85223367697594\n",
      "BernoulliNB Accuracy is  73.02405498281786\n",
      "LinearSVC Accuracy is  69.50171821305841\n",
      "LogisticRegression Accuracy is  72.07903780068729\n"
     ]
    }
   ],
   "source": [
    "print(\"Original Naive Bayes Accuracy is \", (nltk.classify.accuracy(classifier, testing_set))*100)\n",
    "print(\"MultinomialNB Accuracy is \", (nltk.classify.accuracy(MNB_classifier, testing_set))*100)\n",
    "print(\"BernoulliNB Accuracy is \", (nltk.classify.accuracy(Bernoulli_classifier, testing_set))*100)\n",
    "#print(\"DecisionTreeClassifier Accuracy is \", (nltk.classify.accuracy(DecisionTree_Classifier, testing_set))*100)\n",
    "print(\"LinearSVC Accuracy is \", (nltk.classify.accuracy(LinearSVC_classifier, testing_set))*100)\n",
    "#print(\"SGDClassifier Accuracy is \", (nltk.classify.accuracy(SGD_Classifier, testing_set))*100)\n",
    "print(\"LogisticRegression Accuracy is \", (nltk.classify.accuracy(LogisticRegression_classifier, testing_set))*100)"
   ]
  },
  {
   "cell_type": "markdown",
   "metadata": {},
   "source": [
    "### Combining algorithms with a vote"
   ]
  },
  {
   "cell_type": "code",
   "execution_count": 119,
   "metadata": {},
   "outputs": [],
   "source": [
    "from nltk.classify import ClassifierI\n",
    "from statistics import mode"
   ]
  },
  {
   "cell_type": "code",
   "execution_count": 120,
   "metadata": {},
   "outputs": [],
   "source": [
    "class VoteClassifier(ClassifierI):\n",
    "    def __init__(self, *classifiers):\n",
    "        self._classifiers = classifiers\n",
    "    \n",
    "    def classify(self, features):\n",
    "        votes = []\n",
    "        for c in self._classifiers:\n",
    "            v = c.classify(features)\n",
    "            votes.append(v)\n",
    "        return mode(votes)\n",
    "    \n",
    "    def confidence(self, features):\n",
    "        votes = []\n",
    "        for c in self._classifiers:\n",
    "            v = c.classify(features)\n",
    "            votes.append(v)\n",
    "        choice_votes = votes.count(mode(votes))\n",
    "        conf = choice_votes / len(votes)\n",
    "        return conf"
   ]
  },
  {
   "cell_type": "code",
   "execution_count": 121,
   "metadata": {},
   "outputs": [
    {
     "name": "stdout",
     "output_type": "stream",
     "text": [
      "Voted_classifier Accuracy is  72.76632302405498\n"
     ]
    }
   ],
   "source": [
    "voted_classifier = VoteClassifier(classifier,\n",
    "                                  MNB_classifier,\n",
    "                                  Bernoulli_classifier,\n",
    "                                  LinearSVC_classifier,\n",
    "                                  LogisticRegression_classifier)\n",
    "\n",
    "print(\"Voted_classifier Accuracy is \", (nltk.classify.accuracy(voted_classifier, testing_set))*100)"
   ]
  },
  {
   "cell_type": "code",
   "execution_count": null,
   "metadata": {},
   "outputs": [],
   "source": [
    "#print(\"Classification:\", voted_classifier.classify(testing_set[1][0]), \" Confidence %:\", voted_classifier.confidence(testing_set[1][0])*100)\n",
    "#print(\"Classification:\", voted_classifier.classify(testing_set[2][0]), \" Confidence %:\", voted_classifier.confidence(testing_set[2][0])*100)\n",
    "#print(\"Classification:\", voted_classifier.classify(testing_set[3][0]), \" Confidence %:\", voted_classifier.confidence(testing_set[3][0])*100)\n",
    "#print(\"Classification:\", voted_classifier.classify(testing_set[4][0]), \" Confidence %:\", voted_classifier.confidence(testing_set[4][0])*100)\n",
    "#print(\"Classification:\", voted_classifier.classify(testing_set[5][0]), \" Confidence %:\", voted_classifier.confidence(testing_set[5][0])*100)\n",
    "#print(\"Classification:\", voted_classifier.classify(testing_set[6][0]), \" Confidence %:\", voted_classifier.confidence(testing_set[6][0])*100)\n",
    "#print(\"Classification:\", voted_classifier.classify(testing_set[7][0]), \" Confidence %:\", voted_classifier.confidence(testing_set[7][0])*100)\n",
    "#print(\"Classification:\", voted_classifier.classify(testing_set[8][0]), \" Confidence %:\", voted_classifier.confidence(testing_set[8][0])*100)\n",
    "#print(\"Classification:\", voted_classifier.classify(testing_set[9][0]), \" Confidence %:\", voted_classifier.confidence(testing_set[9][0])*100)\n",
    "#print(\"Classification:\", voted_classifier.classify(testing_set[10][0]), \" Confidence %:\", voted_classifier.confidence(testing_set[10][0])*100)"
   ]
  },
  {
   "cell_type": "code",
   "execution_count": 122,
   "metadata": {},
   "outputs": [],
   "source": [
    "def sentiment(text):\n",
    "    feats = find_features(text)\n",
    "    \n",
    "    return voted_classifier.classify(feats)"
   ]
  },
  {
   "cell_type": "code",
   "execution_count": null,
   "metadata": {},
   "outputs": [],
   "source": []
  }
 ],
 "metadata": {
  "kernelspec": {
   "display_name": "Python 3",
   "language": "python",
   "name": "python3"
  },
  "language_info": {
   "codemirror_mode": {
    "name": "ipython",
    "version": 3
   },
   "file_extension": ".py",
   "mimetype": "text/x-python",
   "name": "python",
   "nbconvert_exporter": "python",
   "pygments_lexer": "ipython3",
   "version": "3.7.6"
  }
 },
 "nbformat": 4,
 "nbformat_minor": 4
}
